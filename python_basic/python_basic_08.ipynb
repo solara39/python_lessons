{
 "cells": [
  {
   "cell_type": "code",
   "execution_count": 2,
   "id": "7f7f10a6",
   "metadata": {},
   "outputs": [],
   "source": [
    "#第8章：大規模データの検索"
   ]
  },
  {
   "cell_type": "code",
   "execution_count": 3,
   "id": "61bd9dad",
   "metadata": {},
   "outputs": [],
   "source": [
    "#８−１線形探索と二分探索"
   ]
  },
  {
   "cell_type": "code",
   "execution_count": 11,
   "id": "178a7754",
   "metadata": {},
   "outputs": [],
   "source": [
    "def find_linear(data, name): #計算量はdataの長さに比例する→O(n)\n",
    "    for i in range(len(data)):\n",
    "        if data[i] == name:\n",
    "            return True\n",
    "    return False"
   ]
  },
  {
   "cell_type": "code",
   "execution_count": 12,
   "id": "2d63d8e0",
   "metadata": {},
   "outputs": [
    {
     "data": {
      "text/plain": [
       "True"
      ]
     },
     "execution_count": 12,
     "metadata": {},
     "output_type": "execute_result"
    }
   ],
   "source": [
    "find_linear(['Tom', 'Alice', 'Ken', 'John'], 'Ken')"
   ]
  },
  {
   "cell_type": "code",
   "execution_count": 17,
   "id": "374ac23a",
   "metadata": {},
   "outputs": [],
   "source": [
    "def find_bisection(data, name): #2**k = nより計算量はO(logn)\n",
    "    start = 0\n",
    "    end = len(data)\n",
    "    while start != end:\n",
    "        center = (start + end) // 2\n",
    "        if data[center] == name:\n",
    "            return True\n",
    "        if name < data[center]:\n",
    "            end = center\n",
    "        else:\n",
    "            start = center + 1\n",
    "    return False"
   ]
  },
  {
   "cell_type": "code",
   "execution_count": 22,
   "id": "4b816cfd",
   "metadata": {},
   "outputs": [
    {
     "name": "stdout",
     "output_type": "stream",
     "text": [
      "False\n",
      "True\n"
     ]
    }
   ],
   "source": [
    "data = [ 'Alice', 'David', 'John', 'Ken', 'Tom']\n",
    "print(find_bisection(data, 'Sora'))\n",
    "print(find_bisection(data, 'Tom'))"
   ]
  },
  {
   "cell_type": "code",
   "execution_count": 25,
   "id": "743c65ca",
   "metadata": {},
   "outputs": [],
   "source": [
    "# ８−２ヒストグラムの計算"
   ]
  },
  {
   "cell_type": "code",
   "execution_count": 40,
   "id": "3f9025f0",
   "metadata": {},
   "outputs": [],
   "source": [
    "def histogram(data): #商品数：n、カテゴリ数：mとすると、計算量はO(nm)\n",
    "    result = []\n",
    "    for i in range(len(data)):\n",
    "        put_item(result, data[i])\n",
    "    return result\n",
    "\n",
    "def put_item(res, item):\n",
    "    for i in range(0, len(res)):\n",
    "        if res[i][0] == item:\n",
    "            res[i][1] += 1\n",
    "            return\n",
    "    res.append([item, 1])\n",
    "    \n",
    "def histogram_sorted(data): #計算量はO(n)\n",
    "    result = []\n",
    "    item = data[0]\n",
    "    c = 1\n",
    "    for i in range(1, len(data)):\n",
    "        if item == data[i]:\n",
    "            c += 1\n",
    "        else:\n",
    "            result.append([item, c])\n",
    "            item = data[i]\n",
    "            c = 1\n",
    "    result.append([item, c] )\n",
    "    return result"
   ]
  },
  {
   "cell_type": "code",
   "execution_count": 41,
   "id": "9af06348",
   "metadata": {},
   "outputs": [
    {
     "name": "stdout",
     "output_type": "stream",
     "text": [
      "[['A', 4], ['C', 3], ['B', 2]]\n",
      "[['A', 5], ['B', 2], ['C', 2]]\n"
     ]
    }
   ],
   "source": [
    "print(histogram(['A', 'A', 'C', 'B', 'A', 'C', 'B', 'C', 'A']))\n",
    "print(histogram_sorted(['A', 'A', 'A', 'A', 'A', 'B', 'B', 'C', 'C']))"
   ]
  },
  {
   "cell_type": "code",
   "execution_count": 43,
   "id": "d2913806",
   "metadata": {},
   "outputs": [],
   "source": [
    "#８−３併合整列法"
   ]
  },
  {
   "cell_type": "code",
   "execution_count": 48,
   "id": "1c18ad51",
   "metadata": {},
   "outputs": [],
   "source": [
    "def mergesort(data): #計算量はT(n) = 2T(n/2) + O(n)より　O(nlogn)\n",
    "    n = len(data)\n",
    "    if n <= 1:\n",
    "        return data\n",
    "    else:\n",
    "        data1 = mergesort(data[0 : n // 2])\n",
    "        data2 = mergesort(data[n // 2 : n])\n",
    "        return merge(data1, data2)\n",
    "    \n",
    "import ita\n",
    "def merge(data1, data2):\n",
    "    result = ita.array.make1d(len(data1) + len(data2))\n",
    "    i1 = 0\n",
    "    i2 = 0\n",
    "    for i in range(0, len(result)):\n",
    "        if (i2 >= len(data2) or (i1 < len(data1) and data1[i1] <= data2[i2])):\n",
    "            result[i] = data1[i1]\n",
    "            i1 += 1\n",
    "        else:\n",
    "            result[i] = data2[i2]\n",
    "            i2 += 1\n",
    "    return result"
   ]
  },
  {
   "cell_type": "code",
   "execution_count": 49,
   "id": "c05aa2fa",
   "metadata": {},
   "outputs": [
    {
     "data": {
      "text/plain": [
       "[1, 2, 3, 4, 5, 7, 8, 10]"
      ]
     },
     "execution_count": 49,
     "metadata": {},
     "output_type": "execute_result"
    }
   ],
   "source": [
    "merge([2, 5, 7, 10], [1, 3, 4, 8])"
   ]
  },
  {
   "cell_type": "code",
   "execution_count": 50,
   "id": "50e2f457",
   "metadata": {},
   "outputs": [],
   "source": [
    "# ８−４【発展】整列のアルゴリズムと空間計算量"
   ]
  },
  {
   "cell_type": "code",
   "execution_count": 52,
   "id": "6efe270f",
   "metadata": {},
   "outputs": [],
   "source": [
    "def simplesort(data): #要素数をnとすると計算量はO(n**2)\n",
    "    for i in range(0, len(data)):\n",
    "        j = min_index(data, i)\n",
    "        swap(data, i, j)\n",
    "        \n",
    "def min_index(data, i):\n",
    "    m = i\n",
    "    for j in range(i + 1, len(data)):\n",
    "        if data[j] < data[m]:\n",
    "            m = j\n",
    "    return m\n",
    "\n",
    "def swap(data, i, j):\n",
    "    tmp = data[i]\n",
    "    data[i] = data[j]\n",
    "    data[i] = tmp"
   ]
  },
  {
   "cell_type": "code",
   "execution_count": 53,
   "id": "47bca9fc",
   "metadata": {},
   "outputs": [],
   "source": [
    "#８−５様々なデータ構造"
   ]
  },
  {
   "cell_type": "code",
   "execution_count": 56,
   "id": "9dce7a57",
   "metadata": {},
   "outputs": [],
   "source": [
    "def histogram_dict(data):\n",
    "    result = {}\n",
    "    for i in range(0, len(data)):\n",
    "        item = data[i]\n",
    "        if item in result:\n",
    "            result[item] += 1\n",
    "        else:\n",
    "            result[item] = 1\n",
    "    return result"
   ]
  },
  {
   "cell_type": "code",
   "execution_count": 57,
   "id": "4216d40c",
   "metadata": {},
   "outputs": [
    {
     "name": "stdout",
     "output_type": "stream",
     "text": [
      "{'A': 4, 'C': 3, 'B': 2}\n"
     ]
    }
   ],
   "source": [
    "print(histogram_dict(['A', 'A', 'C', 'B', 'A', 'C', 'B', 'C', 'A']))"
   ]
  },
  {
   "cell_type": "code",
   "execution_count": 59,
   "id": "5cd36547",
   "metadata": {},
   "outputs": [],
   "source": [
    "def ngram(s, n):\n",
    "    l = len(s)\n",
    "    result = {}\n",
    "    s = s + '$' * n\n",
    "    for i in range(0, l):\n",
    "        result[s[i : i + n]] = i\n",
    "    return result"
   ]
  },
  {
   "cell_type": "code",
   "execution_count": 67,
   "id": "261bfa78",
   "metadata": {},
   "outputs": [
    {
     "name": "stdout",
     "output_type": "stream",
     "text": [
      "{'検索ア': 0, '索アル': 1, 'アルゴ': 2, 'ルゴリ': 3, 'ゴリズ': 4, 'リズム': 5, 'ズムの': 6, 'ムの改': 7, 'の改善': 8, '改善$': 9, '善$$': 10}\n"
     ]
    }
   ],
   "source": [
    "print(ngram('検索アルゴリズムの改善',3))"
   ]
  },
  {
   "cell_type": "code",
   "execution_count": 68,
   "id": "6a86c5a8",
   "metadata": {},
   "outputs": [],
   "source": [
    "def ng_search(s, ngram, n, query):\n",
    "    nq = (query + '$' * n)[0 : n]\n",
    "    if nq in ngram:\n",
    "        idx = ngram[nq]\n",
    "        if s[idx : idx + len(query)] == query:\n",
    "            return idx\n",
    "    return -1"
   ]
  },
  {
   "cell_type": "code",
   "execution_count": 75,
   "id": "9cb3e5f0",
   "metadata": {},
   "outputs": [
    {
     "name": "stdout",
     "output_type": "stream",
     "text": [
      "{'検索ア': 0, '索アル': 1, 'アルゴ': 2, 'ルゴリ': 3, 'ゴリズ': 4, 'リズム': 5, 'ズムの': 6, 'ムの改': 7, 'の改善': 8, '改善$': 9, '善$$': 10}\n"
     ]
    }
   ],
   "source": [
    "s = '検索アルゴリズムの改善'\n",
    "ng = ngram(s, 3)\n",
    "print(ng)"
   ]
  },
  {
   "cell_type": "code",
   "execution_count": 76,
   "id": "5fc3b864",
   "metadata": {},
   "outputs": [
    {
     "data": {
      "text/plain": [
       "2"
      ]
     },
     "execution_count": 76,
     "metadata": {},
     "output_type": "execute_result"
    }
   ],
   "source": [
    "ng_search(s, ng, 3, 'アルゴリズム')"
   ]
  },
  {
   "cell_type": "code",
   "execution_count": null,
   "id": "d1877b62",
   "metadata": {},
   "outputs": [],
   "source": []
  }
 ],
 "metadata": {
  "kernelspec": {
   "display_name": "Python 3 (ipykernel)",
   "language": "python",
   "name": "python3"
  },
  "language_info": {
   "codemirror_mode": {
    "name": "ipython",
    "version": 3
   },
   "file_extension": ".py",
   "mimetype": "text/x-python",
   "name": "python",
   "nbconvert_exporter": "python",
   "pygments_lexer": "ipython3",
   "version": "3.10.9"
  }
 },
 "nbformat": 4,
 "nbformat_minor": 5
}
